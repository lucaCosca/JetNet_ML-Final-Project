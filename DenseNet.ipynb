{
  "nbformat": 4,
  "nbformat_minor": 0,
  "metadata": {
    "colab": {
      "provenance": [],
      "gpuType": "T4",
      "authorship_tag": "ABX9TyPc577ig3l9EeWfsepsUe7l",
      "include_colab_link": true
    },
    "kernelspec": {
      "name": "python3",
      "display_name": "Python 3"
    },
    "language_info": {
      "name": "python"
    },
    "accelerator": "GPU"
  },
  "cells": [
    {
      "cell_type": "markdown",
      "metadata": {
        "id": "view-in-github",
        "colab_type": "text"
      },
      "source": [
        "<a href=\"https://colab.research.google.com/github/lucaCosca/JetNet_ML-Final-Project/blob/main/DenseNet.ipynb\" target=\"_parent\"><img src=\"https://colab.research.google.com/assets/colab-badge.svg\" alt=\"Open In Colab\"/></a>"
      ]
    },
    {
      "cell_type": "markdown",
      "source": [
        "# DenseNet Architecture"
      ],
      "metadata": {
        "id": "kGTlK9b2o6GB"
      }
    },
    {
      "cell_type": "code",
      "source": [
        "import numpy as np\n",
        "import matplotlib.pyplot as plt\n",
        "import pandas as pd\n",
        "import tensorflow as tf\n",
        "\n",
        "import gdown"
      ],
      "metadata": {
        "id": "rhrclp2wo-bl"
      },
      "execution_count": 2,
      "outputs": []
    },
    {
      "cell_type": "markdown",
      "source": [
        "### Obtaining The Data\n",
        "Here the data is downloaded from a google drive folder, and loaded into a python object."
      ],
      "metadata": {
        "id": "qnZQWhn1qj4W"
      }
    },
    {
      "cell_type": "code",
      "source": [
        "url1 = \"https://drive.google.com/uc?id=1P4SYbafssKz-6oPXjqTD7aBiCawQjHEk\"\n",
        "output1 = \"Y_N70000_lpx50_gqtwz.npz\"\n",
        "\n",
        "url2 = \"https://drive.google.com/uc?id=1S_QInod3zyO8Vj-YGQfuM1eVPnwiIeRX\"\n",
        "output2 = \"X_N70000_lpx50_gqtwz.npz\"\n",
        "\n",
        "gdown.download(url1, output1, quiet=False)\n",
        "gdown.download(url2, output2, quiet=False)"
      ],
      "metadata": {
        "colab": {
          "base_uri": "https://localhost:8080/",
          "height": 192
        },
        "id": "HnQeuZVipoEC",
        "outputId": "7f60b760-ed35-44c4-dcff-1f6c8b52f49f"
      },
      "execution_count": 3,
      "outputs": [
        {
          "output_type": "stream",
          "name": "stderr",
          "text": [
            "Downloading...\n",
            "From: https://drive.google.com/uc?id=1P4SYbafssKz-6oPXjqTD7aBiCawQjHEk\n",
            "To: /content/Y_N70000_lpx50_gqtwz.npz\n",
            "100%|██████████| 1.12M/1.12M [00:00<00:00, 129MB/s]\n",
            "Downloading...\n",
            "From (original): https://drive.google.com/uc?id=1S_QInod3zyO8Vj-YGQfuM1eVPnwiIeRX\n",
            "From (redirected): https://drive.google.com/uc?id=1S_QInod3zyO8Vj-YGQfuM1eVPnwiIeRX&confirm=t&uuid=0b7db39a-5ea1-433b-adc9-b65731ae48ae\n",
            "To: /content/X_N70000_lpx50_gqtwz.npz\n",
            "100%|██████████| 1.40G/1.40G [00:10<00:00, 130MB/s]\n"
          ]
        },
        {
          "output_type": "execute_result",
          "data": {
            "text/plain": [
              "'X_N70000_lpx50_gqtwz.npz'"
            ],
            "application/vnd.google.colaboratory.intrinsic+json": {
              "type": "string"
            }
          },
          "metadata": {},
          "execution_count": 3
        }
      ]
    },
    {
      "cell_type": "code",
      "source": [
        "X_Data = np.load(\"X_N70000_lpx50_gqtwz.npz\")[\"arr_0\"]\n",
        "Y_Data = np.load(\"Y_N70000_lpx50_gqtwz.npz\")[\"arr_0\"]"
      ],
      "metadata": {
        "id": "yDZ36oJrqyXD"
      },
      "execution_count": 16,
      "outputs": []
    },
    {
      "cell_type": "markdown",
      "source": [
        "### Data Preprocessing\n",
        "The data is now ready to be divided into a Train, Test and validation set, subsequently the lables are one hot encoded."
      ],
      "metadata": {
        "id": "rB41qL8yxGlm"
      }
    },
    {
      "cell_type": "code",
      "source": [
        "# data split\n",
        "num_images = X_Data.shape[0] # Total number of Datapoints\n",
        "\n",
        "train_end = int(0.6 * num_images)\n",
        "test_end = train_end + int(0.2 * num_images)\n",
        "\n",
        "X_train, X_test, X_val = X_Data[:train_end], X_Data[train_end:test_end], X_Data[test_end:]\n",
        "Y_train, Y_test, Y_val = Y_Data[:train_end], Y_Data[train_end:test_end], Y_Data[test_end:]\n",
        "\n",
        "# one hot encoding the lables\n",
        "from sklearn.preprocessing import OneHotEncoder\n",
        "one_hot_encoder = OneHotEncoder(sparse_output=False)\n",
        "Y_train_onehot = one_hot_encoder.fit_transform(Y_train.reshape((-1,1)))\n",
        "Y_valid_onehot = one_hot_encoder.fit_transform(Y_val.reshape((-1,1)))\n",
        "Y_test_onehot = one_hot_encoder.fit_transform(Y_test.reshape((-1,1)))"
      ],
      "metadata": {
        "id": "_znx0mD8rRJR"
      },
      "execution_count": 17,
      "outputs": []
    },
    {
      "cell_type": "code",
      "source": [],
      "metadata": {
        "id": "s7yThLdbx4aQ"
      },
      "execution_count": null,
      "outputs": []
    }
  ]
}