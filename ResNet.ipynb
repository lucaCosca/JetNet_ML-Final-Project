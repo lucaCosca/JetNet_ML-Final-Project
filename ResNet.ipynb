{
  "nbformat": 4,
  "nbformat_minor": 0,
  "metadata": {
    "colab": {
      "provenance": [],
      "authorship_tag": "ABX9TyOnhvbq7olgi7rhmY9Zkl90",
      "include_colab_link": true
    },
    "kernelspec": {
      "name": "python3",
      "display_name": "Python 3"
    },
    "language_info": {
      "name": "python"
    }
  },
  "cells": [
    {
      "cell_type": "markdown",
      "metadata": {
        "id": "view-in-github",
        "colab_type": "text"
      },
      "source": [
        "<a href=\"https://colab.research.google.com/github/lucaCosca/JetNet_ML-Final-Project/blob/main/ResNet.ipynb\" target=\"_parent\"><img src=\"https://colab.research.google.com/assets/colab-badge.svg\" alt=\"Open In Colab\"/></a>"
      ]
    },
    {
      "cell_type": "markdown",
      "source": [
        "# ResNet-34 Architechture\n"
      ],
      "metadata": {
        "id": "rFJi900bMn4H"
      }
    },
    {
      "cell_type": "code",
      "execution_count": 3,
      "metadata": {
        "id": "imwmBanJJoWk"
      },
      "outputs": [],
      "source": [
        "import numpy as np\n",
        "import matplotlib.pyplot as plt\n",
        "import pandas as pd\n",
        "import tensorflow as tf\n",
        "\n",
        "import gdown"
      ]
    },
    {
      "cell_type": "markdown",
      "source": [
        "### Loading The Data"
      ],
      "metadata": {
        "id": "ukJH993Z85aV"
      }
    },
    {
      "cell_type": "code",
      "source": [
        "url1 = \"https://drive.google.com/uc?id=1P4SYbafssKz-6oPXjqTD7aBiCawQjHEk\"\n",
        "output1 = \"Y_N70000_lpx50_gqtwz.npz\"\n",
        "\n",
        "url2 = \"https://drive.google.com/uc?id=1S_QInod3zyO8Vj-YGQfuM1eVPnwiIeRX\"\n",
        "output2 = \"X_N70000_lpx50_gqtwz.npz\"\n",
        "\n",
        "gdown.download(url1, output1, quiet=False)\n",
        "gdown.download(url2, output2, quiet=False)"
      ],
      "metadata": {
        "colab": {
          "base_uri": "https://localhost:8080/",
          "height": 192
        },
        "id": "TxPK-RYrUfPn",
        "outputId": "8536d58f-c88f-4060-e2ea-b454918573ae"
      },
      "execution_count": 4,
      "outputs": [
        {
          "output_type": "stream",
          "name": "stderr",
          "text": [
            "Downloading...\n",
            "From: https://drive.google.com/uc?id=1P4SYbafssKz-6oPXjqTD7aBiCawQjHEk\n",
            "To: /content/Y_N70000_lpx50_gqtwz.npz\n",
            "100%|██████████| 1.12M/1.12M [00:00<00:00, 59.6MB/s]\n",
            "Downloading...\n",
            "From (original): https://drive.google.com/uc?id=1S_QInod3zyO8Vj-YGQfuM1eVPnwiIeRX\n",
            "From (redirected): https://drive.google.com/uc?id=1S_QInod3zyO8Vj-YGQfuM1eVPnwiIeRX&confirm=t&uuid=0b73b943-ccfa-4e59-b5d0-f0ca3bf1ea84\n",
            "To: /content/X_N70000_lpx50_gqtwz.npz\n",
            "100%|██████████| 1.40G/1.40G [00:27<00:00, 50.2MB/s]\n"
          ]
        },
        {
          "output_type": "execute_result",
          "data": {
            "text/plain": [
              "'X_N70000_lpx50_gqtwz.npz'"
            ],
            "application/vnd.google.colaboratory.intrinsic+json": {
              "type": "string"
            }
          },
          "metadata": {},
          "execution_count": 4
        }
      ]
    },
    {
      "cell_type": "code",
      "source": [
        "X_Data = np.load(\"X_N70000_lpx50_gqtwz.npz\")[\"arr_0\"]\n",
        "Y_Data = np.load(\"Y_N70000_lpx50_gqtwz.npz\")[\"arr_0\"][:,0] # took only the feature about the class of the particle, it cuts the mass"
      ],
      "metadata": {
        "id": "puYntF709PWt"
      },
      "execution_count": 5,
      "outputs": []
    },
    {
      "cell_type": "markdown",
      "source": [
        "### Data Preprocessing"
      ],
      "metadata": {
        "id": "tGzZ5RyD9Rvi"
      }
    },
    {
      "cell_type": "code",
      "source": [
        "# data split\n",
        "num_images = X_Data.shape[0]\n",
        "\n",
        "train_end = int(0.6 * num_images)\n",
        "test_end = train_end + int(0.2 * num_images)\n",
        "\n",
        "X_Data = X_Data.reshape(num_images, 50, 50, 1)\n",
        "\n",
        "X_train, X_test, X_val = X_Data[:train_end], X_Data[train_end:test_end], X_Data[test_end:]\n",
        "Y_train, Y_test, Y_val = Y_Data[:train_end], Y_Data[train_end:test_end], Y_Data[test_end:]\n",
        "\n",
        "from sklearn.preprocessing import OneHotEncoder\n",
        "one_hot_encoder = OneHotEncoder(sparse_output=False)\n",
        "Y_train_onehot = one_hot_encoder.fit_transform(Y_train.reshape((-1,1)))\n",
        "Y_valid_onehot = one_hot_encoder.fit_transform(Y_val.reshape((-1,1)))\n",
        "Y_test_onehot = one_hot_encoder.fit_transform(Y_test.reshape((-1,1)))\n",
        "\n",
        "# The data is alredy normalized\n"
      ],
      "metadata": {
        "id": "j5NijH3rCN0I"
      },
      "execution_count": 6,
      "outputs": []
    },
    {
      "cell_type": "markdown",
      "source": [
        "### Network Architecture\n"
      ],
      "metadata": {
        "id": "8HxeN_GwCbqe"
      }
    },
    {
      "cell_type": "code",
      "source": [
        "# Residual Block Layer definition\n",
        "\n",
        "class ResidualBlock(tf.keras.layers.Layer):\n",
        "\n",
        "  def __init__(self, filters, strides=1, **kwargs):\n",
        "    super().__init__(**kwargs)\n",
        "\n",
        "    self.main_layers = [\n",
        "        tf.keras.layers.Conv2D(filters=filters, kernel_size=3, strides=strides, padding='same'),\n",
        "        tf.keras.layers.BatchNormalization(),\n",
        "        tf.keras.layers.Activation('relu'),\n",
        "        tf.keras.layers.Conv2D(filters=filters, kernel_size=3, strides=1, padding='same'),\n",
        "        tf.keras.layers.BatchNormalization()\n",
        "    ]\n",
        "\n",
        "    self.skip_layers = []\n",
        "    if strides > 1:\n",
        "      self.skip_layers = [\n",
        "          tf.keras.layers.Conv2D(filters=filters, kernel_size=1, strides=strides, padding='same'),\n",
        "          tf.keras.layers.BatchNormalization()\n",
        "      ]\n",
        "\n",
        "  def call(self, inputs):\n",
        "    Z = inputs\n",
        "    for layer in self.main_layers:\n",
        "      Z = layer(Z)\n",
        "\n",
        "    skip_Z = inputs\n",
        "    for layer in self.skip_layers:\n",
        "      skip_Z = layer(skip_Z)\n",
        "\n",
        "    return tf.keras.layers.Activation('relu')(Z + skip_Z)"
      ],
      "metadata": {
        "id": "JPmRKiLKNo3c"
      },
      "execution_count": 7,
      "outputs": []
    },
    {
      "cell_type": "code",
      "source": [
        "ResNet34 = tf.keras.Sequential([\n",
        "\n",
        "    tf.keras.layers.Input(shape=[50, 50, 1]),\n",
        "    tf.keras.layers.Conv2D(filters=64, kernel_size=7, strides=2, padding='same'),\n",
        "    tf.keras.layers.BatchNormalization(),\n",
        "    tf.keras.layers.Activation('relu'),\n",
        "    tf.keras.layers.MaxPooling2D(),\n",
        "\n",
        "    ResidualBlock(filters=64),\n",
        "    ResidualBlock(filters=64),\n",
        "    ResidualBlock(filters=64),\n",
        "\n",
        "    ResidualBlock(filters=128, strides=2),\n",
        "    ResidualBlock(filters=128),\n",
        "    ResidualBlock(filters=128),\n",
        "    ResidualBlock(filters=128),\n",
        "\n",
        "    ResidualBlock(filters=256, strides=2),\n",
        "    ResidualBlock(filters=256),\n",
        "    ResidualBlock(filters=256),\n",
        "    ResidualBlock(filters=256),\n",
        "    ResidualBlock(filters=256),\n",
        "    ResidualBlock(filters=256),\n",
        "\n",
        "    ResidualBlock(filters=512, strides=2),\n",
        "    ResidualBlock(filters=512),\n",
        "    ResidualBlock(filters=512),\n",
        "\n",
        "    tf.keras.layers.GlobalAveragePooling2D(),\n",
        "    tf.keras.layers.Flatten(),\n",
        "    tf.keras.layers.Dense(5, activation='softmax')\n",
        "])"
      ],
      "metadata": {
        "id": "7gbHLiDJO5VM"
      },
      "execution_count": null,
      "outputs": []
    }
  ]
}