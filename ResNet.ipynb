{
  "nbformat": 4,
  "nbformat_minor": 0,
  "metadata": {
    "colab": {
      "provenance": [],
      "authorship_tag": "ABX9TyOFkfuLdsKAMDdgH2UImgLV",
      "include_colab_link": true
    },
    "kernelspec": {
      "name": "python3",
      "display_name": "Python 3"
    },
    "language_info": {
      "name": "python"
    }
  },
  "cells": [
    {
      "cell_type": "markdown",
      "metadata": {
        "id": "view-in-github",
        "colab_type": "text"
      },
      "source": [
        "<a href=\"https://colab.research.google.com/github/lucaCosca/JetNet_ML-Final-Project/blob/main/ResNet.ipynb\" target=\"_parent\"><img src=\"https://colab.research.google.com/assets/colab-badge.svg\" alt=\"Open In Colab\"/></a>"
      ]
    },
    {
      "cell_type": "markdown",
      "source": [
        "# ResNet-34 Architechture\n"
      ],
      "metadata": {
        "id": "rFJi900bMn4H"
      }
    },
    {
      "cell_type": "code",
      "execution_count": 2,
      "metadata": {
        "id": "imwmBanJJoWk"
      },
      "outputs": [],
      "source": [
        "import numpy as np\n",
        "import matplotlib.pyplot as plt\n",
        "import pandas as pd\n",
        "import tensorflow as tf"
      ]
    },
    {
      "cell_type": "code",
      "source": [],
      "metadata": {
        "id": "TxPK-RYrUfPn"
      },
      "execution_count": null,
      "outputs": []
    },
    {
      "cell_type": "code",
      "source": [
        "# Residual Block Layer definition\n",
        "\n",
        "class ResidualBlock(tf.keras.layers.Layer):\n",
        "\n",
        "  def __init__(self, filters, strides=1, **kwargs):\n",
        "    super().__init__(**kwargs)\n",
        "\n",
        "    self.main_layers = [\n",
        "        tf.keras.layers.Conv2D(filters=filters, kernel_size=3, strides=strides, padding='same'),\n",
        "        tf.keras.layers.BatchNormalization(),\n",
        "        tf.keras.layers.Activation('relu'),\n",
        "        tf.keras.layers.Conv2D(filters=filters, kernel_size=3, strides=1, padding='same'),\n",
        "        tf.keras.layers.BatchNormalization()\n",
        "    ]\n",
        "\n",
        "    self.skip_layers = []\n",
        "    if strides > 1:\n",
        "      self.skip_layers = [\n",
        "          tf.keras.layers.Conv2D(filters=filters, kernel_size=1, strides=strides, padding='same'),\n",
        "          tf.keras.layers.BatchNormalization()\n",
        "      ]\n",
        "\n",
        "  def call(self, inputs):\n",
        "    Z = inputs\n",
        "    for layer in self.main_layers:\n",
        "      Z = layer(Z)\n",
        "\n",
        "    skip_Z = inputs\n",
        "    for layer in self.skip_layers:\n",
        "      skip_Z = layer(skip_Z)\n",
        "\n",
        "    return tf.keras.layers.Activation('relu')(Z + skip_Z)"
      ],
      "metadata": {
        "id": "JPmRKiLKNo3c"
      },
      "execution_count": null,
      "outputs": []
    },
    {
      "cell_type": "code",
      "source": [
        "ResNet34 = tf.keras.Sequential([\n",
        "\n",
        "    tf.keras.layers.Input(shape=[50, 50, 1]),\n",
        "    tf.keras.layers.Conv2D(filters=64, kernel_size=7, strides=2, padding='same'),\n",
        "    tf.keras.layers.BatchNormalization(),\n",
        "    tf.keras.layers.Activation('relu'),\n",
        "    tf.keras.layers.MaxPooling2D(),\n",
        "\n",
        "    ResidualBlock(filters=64),\n",
        "    ResidualBlock(filters=64),\n",
        "    ResidualBlock(filters=64),\n",
        "\n",
        "    ResidualBlock(filters=128, strides=2),\n",
        "    ResidualBlock(filters=128),\n",
        "    ResidualBlock(filters=128),\n",
        "    ResidualBlock(filters=128),\n",
        "\n",
        "    ResidualBlock(filters=256, strides=2),\n",
        "    ResidualBlock(filters=256),\n",
        "    ResidualBlock(filters=256),\n",
        "    ResidualBlock(filters=256),\n",
        "    ResidualBlock(filters=256),\n",
        "    ResidualBlock(filters=256),\n",
        "\n",
        "    ResidualBlock(filters=512, strides=2),\n",
        "    ResidualBlock(filters=512),\n",
        "    ResidualBlock(filters=512),\n",
        "\n",
        "    tf.keras.layers.GlobalAveragePooling2D(),\n",
        "    tf.keras.layers.Flatten(),\n",
        "    tf.keras.layers.Dense(5, activation='softmax')\n",
        "])"
      ],
      "metadata": {
        "id": "7gbHLiDJO5VM"
      },
      "execution_count": null,
      "outputs": []
    }
  ]
}